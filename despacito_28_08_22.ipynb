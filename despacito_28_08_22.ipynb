{
  "cells": [
    {
      "cell_type": "markdown",
      "metadata": {
        "id": "view-in-github",
        "colab_type": "text"
      },
      "source": [
        "<a href=\"https://colab.research.google.com/github/mucahidozcelik/Data-Science-Machine-Learning/blob/main/despacito_28_08_22.ipynb\" target=\"_parent\"><img src=\"https://colab.research.google.com/assets/colab-badge.svg\" alt=\"Open In Colab\"/></a>"
      ]
    },
    {
      "cell_type": "code",
      "execution_count": 1,
      "metadata": {
        "id": "yw4vWD5XjMR4"
      },
      "outputs": [],
      "source": [
        "##################################################\n",
        "# Introduction to Text Mining and Natural Language Processing\n",
        "##################################################\n",
        "\n",
        "import os\n",
        "from gettext import install\n",
        "from warnings import filterwarnings\n",
        "\n",
        "\n",
        "import matplotlib.pyplot as plt\n",
        "import numpy as np\n",
        "import pandas as pd\n",
        "import ast\n",
        "from PIL import Image\n",
        "from nltk.corpus import stopwords\n",
        "from nltk.sentiment import SentimentIntensityAnalyzer\n",
        "from sklearn.ensemble import RandomForestClassifier\n",
        "from sklearn.linear_model import LogisticRegression\n",
        "from sklearn.model_selection import cross_val_score, GridSearchCV, cross_validate\n",
        "from sklearn.preprocessing import LabelEncoder\n",
        "from textblob import Word, TextBlob\n",
        "from wordcloud import WordCloud\n",
        "\n",
        "filterwarnings('ignore')\n",
        "pd.set_option('display.max_columns', 500)\n",
        "pd.set_option('display.max_rows', None)\n",
        "pd.set_option('display.width', 500)\n",
        "pd.set_option('display.float_format', lambda x: '%.2f' % x)\n"
      ]
    },
    {
      "cell_type": "code",
      "execution_count": 2,
      "metadata": {
        "colab": {
          "base_uri": "https://localhost:8080/"
        },
        "id": "GOaCCbPEokcK",
        "outputId": "3562bc3b-4761-4fc7-8ce8-2738c4088d1b"
      },
      "outputs": [
        {
          "output_type": "stream",
          "name": "stdout",
          "text": [
            "Mounted at /content/drive\n"
          ]
        }
      ],
      "source": [
        "from google.colab import drive\n",
        "drive.mount('/content/drive')"
      ]
    },
    {
      "cell_type": "code",
      "execution_count": 3,
      "metadata": {
        "id": "XpqUqLOijMR7"
      },
      "outputs": [],
      "source": [
        "##################################################\n",
        "# 1. Text Preprocessing\n",
        "##################################################\n",
        "\n",
        "\n",
        "data = pd.read_csv(\"/content/drive/MyDrive/despacito kopyası.csv\",sep=\"delimiter\",header=None)[0]"
      ]
    },
    {
      "cell_type": "code",
      "execution_count": 4,
      "metadata": {
        "id": "smf5t3bmjMR7"
      },
      "outputs": [],
      "source": [
        "liste=[]\n",
        "for i in data:\n",
        "    liste.append(ast.literal_eval(i[:-17] + \"}\"))\n",
        "\n",
        "df = pd.DataFrame(liste)"
      ]
    },
    {
      "cell_type": "code",
      "execution_count": null,
      "metadata": {
        "id": "LsZBW5pCaGGc"
      },
      "outputs": [],
      "source": [
        "#df[\"text\"].to_csv('despacitotext.csv')"
      ]
    },
    {
      "cell_type": "code",
      "execution_count": 5,
      "metadata": {
        "colab": {
          "base_uri": "https://localhost:8080/",
          "height": 206
        },
        "id": "W-OWkNtujMR8",
        "outputId": "c595ce1a-8a3a-492e-d9d5-7903b2aa6963"
      },
      "outputs": [
        {
          "output_type": "execute_result",
          "data": {
            "text/plain": [
              "                          cid                             text                        time               author                   channel votes                                              photo\n",
              "0  UgyTVBhlOJmdTsghxXV4AaABAg                                😚               1 dakika önce        Renàta Németh  UC310yReVLuaLKtizh-aRwcQ     0  https://yt3.ggpht.com/ytc/AKedOLRZHIxt5TPwc2ol...\n",
              "1  UgyMI_Iaj1KvPIrLcdR4AaABAg              Olyan kedves vagyol               3 dakika önce        Renàta Németh  UC310yReVLuaLKtizh-aRwcQ     0  https://yt3.ggpht.com/ytc/AKedOLRZHIxt5TPwc2ol...\n",
              "2  Ugx4b3LEWSLfO3THhRB4AaABAg                            Hello               3 dakika önce  Half Popped Popcorn  UCrtoZ1NURpszjq_C7iXfvVQ     0  https://yt3.ggpht.com/mJ3X3tUkyJBj7eQ4xpYSyRoC...\n",
              "3  UgynhdgFiQeyajr6cRN4AaABAg     Látom nem jell a szeretleket               3 dakika önce        Renàta Németh  UC310yReVLuaLKtizh-aRwcQ     0  https://yt3.ggpht.com/ytc/AKedOLRZHIxt5TPwc2ol...\n",
              "4  Ugwt35J6WTgF4kJuV8h4AaABAg  ausőnbe    kesztyűè meg fűzetek  4 dakika önce (düzenlendi)        Renàta Németh  UC310yReVLuaLKtizh-aRwcQ     0  https://yt3.ggpht.com/ytc/AKedOLRZHIxt5TPwc2ol..."
            ],
            "text/html": [
              "\n",
              "  <div id=\"df-d4da80f9-ecbc-4947-8604-d39ad457b162\">\n",
              "    <div class=\"colab-df-container\">\n",
              "      <div>\n",
              "<style scoped>\n",
              "    .dataframe tbody tr th:only-of-type {\n",
              "        vertical-align: middle;\n",
              "    }\n",
              "\n",
              "    .dataframe tbody tr th {\n",
              "        vertical-align: top;\n",
              "    }\n",
              "\n",
              "    .dataframe thead th {\n",
              "        text-align: right;\n",
              "    }\n",
              "</style>\n",
              "<table border=\"1\" class=\"dataframe\">\n",
              "  <thead>\n",
              "    <tr style=\"text-align: right;\">\n",
              "      <th></th>\n",
              "      <th>cid</th>\n",
              "      <th>text</th>\n",
              "      <th>time</th>\n",
              "      <th>author</th>\n",
              "      <th>channel</th>\n",
              "      <th>votes</th>\n",
              "      <th>photo</th>\n",
              "    </tr>\n",
              "  </thead>\n",
              "  <tbody>\n",
              "    <tr>\n",
              "      <th>0</th>\n",
              "      <td>UgyTVBhlOJmdTsghxXV4AaABAg</td>\n",
              "      <td>😚</td>\n",
              "      <td>1 dakika önce</td>\n",
              "      <td>Renàta Németh</td>\n",
              "      <td>UC310yReVLuaLKtizh-aRwcQ</td>\n",
              "      <td>0</td>\n",
              "      <td>https://yt3.ggpht.com/ytc/AKedOLRZHIxt5TPwc2ol...</td>\n",
              "    </tr>\n",
              "    <tr>\n",
              "      <th>1</th>\n",
              "      <td>UgyMI_Iaj1KvPIrLcdR4AaABAg</td>\n",
              "      <td>Olyan kedves vagyol</td>\n",
              "      <td>3 dakika önce</td>\n",
              "      <td>Renàta Németh</td>\n",
              "      <td>UC310yReVLuaLKtizh-aRwcQ</td>\n",
              "      <td>0</td>\n",
              "      <td>https://yt3.ggpht.com/ytc/AKedOLRZHIxt5TPwc2ol...</td>\n",
              "    </tr>\n",
              "    <tr>\n",
              "      <th>2</th>\n",
              "      <td>Ugx4b3LEWSLfO3THhRB4AaABAg</td>\n",
              "      <td>Hello</td>\n",
              "      <td>3 dakika önce</td>\n",
              "      <td>Half Popped Popcorn</td>\n",
              "      <td>UCrtoZ1NURpszjq_C7iXfvVQ</td>\n",
              "      <td>0</td>\n",
              "      <td>https://yt3.ggpht.com/mJ3X3tUkyJBj7eQ4xpYSyRoC...</td>\n",
              "    </tr>\n",
              "    <tr>\n",
              "      <th>3</th>\n",
              "      <td>UgynhdgFiQeyajr6cRN4AaABAg</td>\n",
              "      <td>Látom nem jell a szeretleket</td>\n",
              "      <td>3 dakika önce</td>\n",
              "      <td>Renàta Németh</td>\n",
              "      <td>UC310yReVLuaLKtizh-aRwcQ</td>\n",
              "      <td>0</td>\n",
              "      <td>https://yt3.ggpht.com/ytc/AKedOLRZHIxt5TPwc2ol...</td>\n",
              "    </tr>\n",
              "    <tr>\n",
              "      <th>4</th>\n",
              "      <td>Ugwt35J6WTgF4kJuV8h4AaABAg</td>\n",
              "      <td>ausőnbe    kesztyűè meg fűzetek</td>\n",
              "      <td>4 dakika önce (düzenlendi)</td>\n",
              "      <td>Renàta Németh</td>\n",
              "      <td>UC310yReVLuaLKtizh-aRwcQ</td>\n",
              "      <td>0</td>\n",
              "      <td>https://yt3.ggpht.com/ytc/AKedOLRZHIxt5TPwc2ol...</td>\n",
              "    </tr>\n",
              "  </tbody>\n",
              "</table>\n",
              "</div>\n",
              "      <button class=\"colab-df-convert\" onclick=\"convertToInteractive('df-d4da80f9-ecbc-4947-8604-d39ad457b162')\"\n",
              "              title=\"Convert this dataframe to an interactive table.\"\n",
              "              style=\"display:none;\">\n",
              "        \n",
              "  <svg xmlns=\"http://www.w3.org/2000/svg\" height=\"24px\"viewBox=\"0 0 24 24\"\n",
              "       width=\"24px\">\n",
              "    <path d=\"M0 0h24v24H0V0z\" fill=\"none\"/>\n",
              "    <path d=\"M18.56 5.44l.94 2.06.94-2.06 2.06-.94-2.06-.94-.94-2.06-.94 2.06-2.06.94zm-11 1L8.5 8.5l.94-2.06 2.06-.94-2.06-.94L8.5 2.5l-.94 2.06-2.06.94zm10 10l.94 2.06.94-2.06 2.06-.94-2.06-.94-.94-2.06-.94 2.06-2.06.94z\"/><path d=\"M17.41 7.96l-1.37-1.37c-.4-.4-.92-.59-1.43-.59-.52 0-1.04.2-1.43.59L10.3 9.45l-7.72 7.72c-.78.78-.78 2.05 0 2.83L4 21.41c.39.39.9.59 1.41.59.51 0 1.02-.2 1.41-.59l7.78-7.78 2.81-2.81c.8-.78.8-2.07 0-2.86zM5.41 20L4 18.59l7.72-7.72 1.47 1.35L5.41 20z\"/>\n",
              "  </svg>\n",
              "      </button>\n",
              "      \n",
              "  <style>\n",
              "    .colab-df-container {\n",
              "      display:flex;\n",
              "      flex-wrap:wrap;\n",
              "      gap: 12px;\n",
              "    }\n",
              "\n",
              "    .colab-df-convert {\n",
              "      background-color: #E8F0FE;\n",
              "      border: none;\n",
              "      border-radius: 50%;\n",
              "      cursor: pointer;\n",
              "      display: none;\n",
              "      fill: #1967D2;\n",
              "      height: 32px;\n",
              "      padding: 0 0 0 0;\n",
              "      width: 32px;\n",
              "    }\n",
              "\n",
              "    .colab-df-convert:hover {\n",
              "      background-color: #E2EBFA;\n",
              "      box-shadow: 0px 1px 2px rgba(60, 64, 67, 0.3), 0px 1px 3px 1px rgba(60, 64, 67, 0.15);\n",
              "      fill: #174EA6;\n",
              "    }\n",
              "\n",
              "    [theme=dark] .colab-df-convert {\n",
              "      background-color: #3B4455;\n",
              "      fill: #D2E3FC;\n",
              "    }\n",
              "\n",
              "    [theme=dark] .colab-df-convert:hover {\n",
              "      background-color: #434B5C;\n",
              "      box-shadow: 0px 1px 3px 1px rgba(0, 0, 0, 0.15);\n",
              "      filter: drop-shadow(0px 1px 2px rgba(0, 0, 0, 0.3));\n",
              "      fill: #FFFFFF;\n",
              "    }\n",
              "  </style>\n",
              "\n",
              "      <script>\n",
              "        const buttonEl =\n",
              "          document.querySelector('#df-d4da80f9-ecbc-4947-8604-d39ad457b162 button.colab-df-convert');\n",
              "        buttonEl.style.display =\n",
              "          google.colab.kernel.accessAllowed ? 'block' : 'none';\n",
              "\n",
              "        async function convertToInteractive(key) {\n",
              "          const element = document.querySelector('#df-d4da80f9-ecbc-4947-8604-d39ad457b162');\n",
              "          const dataTable =\n",
              "            await google.colab.kernel.invokeFunction('convertToInteractive',\n",
              "                                                     [key], {});\n",
              "          if (!dataTable) return;\n",
              "\n",
              "          const docLinkHtml = 'Like what you see? Visit the ' +\n",
              "            '<a target=\"_blank\" href=https://colab.research.google.com/notebooks/data_table.ipynb>data table notebook</a>'\n",
              "            + ' to learn more about interactive tables.';\n",
              "          element.innerHTML = '';\n",
              "          dataTable['output_type'] = 'display_data';\n",
              "          await google.colab.output.renderOutput(dataTable, element);\n",
              "          const docLink = document.createElement('div');\n",
              "          docLink.innerHTML = docLinkHtml;\n",
              "          element.appendChild(docLink);\n",
              "        }\n",
              "      </script>\n",
              "    </div>\n",
              "  </div>\n",
              "  "
            ]
          },
          "metadata": {},
          "execution_count": 5
        }
      ],
      "source": [
        "df.head(5)"
      ]
    },
    {
      "cell_type": "code",
      "source": [
        "df1 = df[\"text\"].iloc[1:]"
      ],
      "metadata": {
        "id": "eP5aBIcZkfMa"
      },
      "execution_count": null,
      "outputs": []
    },
    {
      "cell_type": "code",
      "source": [
        "df1.head()"
      ],
      "metadata": {
        "colab": {
          "base_uri": "https://localhost:8080/"
        },
        "id": "LBGadnaCwQQI",
        "outputId": "595ca983-6c0d-4a7d-87ad-20baecc17c05"
      },
      "execution_count": null,
      "outputs": [
        {
          "output_type": "execute_result",
          "data": {
            "text/plain": [
              "1                                  Olyan kedves vagyol\n",
              "2                                                Hello\n",
              "3                         Látom nem jell a szeretleket\n",
              "4                      ausőnbe    kesztyűè meg fűzetek\n",
              "5    https://youtube.com/shorts/j_HZjzVDQTA?feature...\n",
              "Name: text, dtype: object"
            ]
          },
          "metadata": {},
          "execution_count": 7
        }
      ]
    },
    {
      "cell_type": "code",
      "execution_count": null,
      "metadata": {
        "colab": {
          "base_uri": "https://localhost:8080/"
        },
        "id": "C3eS5g8LjMR9",
        "outputId": "369c50c9-2cdf-469f-c23d-7ea886982503"
      },
      "outputs": [
        {
          "output_type": "execute_result",
          "data": {
            "text/plain": [
              "1                                  olyan kedves vagyol\n",
              "2                                                hello\n",
              "3                         látom nem jell a szeretleket\n",
              "4                      ausőnbe    kesztyűè meg fűzetek\n",
              "5    https://youtube.com/shorts/j_hzjzvdqta?feature...\n",
              "Name: text, dtype: object"
            ]
          },
          "metadata": {},
          "execution_count": 8
        }
      ],
      "source": [
        "###############################\n",
        "# Normalizing Case Folding\n",
        "###############################\n",
        "\n",
        "df1 = df1.str.lower()\n",
        "df1.head()"
      ]
    },
    {
      "cell_type": "code",
      "execution_count": null,
      "metadata": {
        "colab": {
          "base_uri": "https://localhost:8080/"
        },
        "id": "j7vUfpzZjMR9",
        "outputId": "ff709b9d-518b-45fc-d938-7e3e4a5b34ee"
      },
      "outputs": [
        {
          "output_type": "execute_result",
          "data": {
            "text/plain": [
              "0                                                     \n",
              "1                                  Olyan kedves vagyol\n",
              "2                                                Hello\n",
              "3                         Látom nem jell a szeretleket\n",
              "4                      ausőnbe    kesztyűè meg fűzetek\n",
              "5         httpsyoutubecomshortsj_HZjzVDQTAfeatureshare\n",
              "6                                                 What\n",
              "7    In August 2019  it was 63B \\nNow it is 76B\\nAf...\n",
              "8                    Those who looked newest comments \n",
              "9                                                 Bruh\n",
              "Name: text, dtype: object"
            ]
          },
          "metadata": {},
          "execution_count": 9
        }
      ],
      "source": [
        "###############################\n",
        "# Punctuations\n",
        "###############################\n",
        "\n",
        "df1['text'] = df['text'].str.replace('[^\\w\\s]', '')\n",
        "df1['text'].head(10)"
      ]
    },
    {
      "cell_type": "code",
      "execution_count": null,
      "metadata": {
        "colab": {
          "base_uri": "https://localhost:8080/"
        },
        "id": "nUAJLiffjMR-",
        "outputId": "900775f3-fb09-46b8-bcb1-eca943536fe1"
      },
      "outputs": [
        {
          "output_type": "execute_result",
          "data": {
            "text/plain": [
              "0                                                     😚\n",
              "1                                   Olyan kedves vagyol\n",
              "2                                                 Hello\n",
              "3                          Látom nem jell a szeretleket\n",
              "4                       ausőnbe    kesztyűè meg fűzetek\n",
              "5     https://youtube.com/shorts/j_HZjzVDQTA?feature...\n",
              "6                                               What???\n",
              "7     In August   it was .B 😱\\nNow it is .B\\nAfter y...\n",
              "8                    Those who looked newest comments 😮\n",
              "9                                                  Bruh\n",
              "10    you are not the only person who is listening t...\n",
              "11    Cah believe this come out four year but when m...\n",
              "12    i can not realize how it is the most watched v...\n",
              "13                                         schmutz wërk\n",
              "14                                              SCHMUTZ\n",
              "15                                Top  global view song\n",
              "16    I don't understand the language but like the m...\n",
              "17              Steal I am here for enjoy the song ☺️☺️\n",
              "18                                                 عربي\n",
              "19                                            Szeretlek\n",
              "Name: text, dtype: object"
            ]
          },
          "metadata": {},
          "execution_count": 10
        }
      ],
      "source": [
        "###############################\n",
        "# Numbers\n",
        "###############################\n",
        "\n",
        "df1['text'] = df['text'].str.replace('\\d', '')\n",
        "df1[\"text\"].head(20)"
      ]
    },
    {
      "cell_type": "code",
      "source": [
        "# 0.satırı sil \n",
        "# df.drop([0], axis=0, inplace=True)"
      ],
      "metadata": {
        "id": "22rdPVanlXkU"
      },
      "execution_count": null,
      "outputs": []
    },
    {
      "cell_type": "code",
      "execution_count": null,
      "metadata": {
        "id": "o3q0b9A3jMR-"
      },
      "outputs": [],
      "source": [
        "#df[\"text\"].fillna(\"NaN\")"
      ]
    },
    {
      "cell_type": "code",
      "execution_count": null,
      "metadata": {
        "id": "y2i2JVHmjMR_"
      },
      "outputs": [],
      "source": [
        "# boş satırları siliyoruz\n",
        "#df[\"text\"].dropna() \n",
        "#df[\"text\"]"
      ]
    },
    {
      "cell_type": "code",
      "execution_count": null,
      "metadata": {
        "colab": {
          "base_uri": "https://localhost:8080/"
        },
        "id": "tdbYY4e2jMR_",
        "outputId": "ba3f7173-93c6-453d-8be9-7164e835758b"
      },
      "outputs": [
        {
          "output_type": "stream",
          "name": "stderr",
          "text": [
            "[nltk_data] Downloading package stopwords to /root/nltk_data...\n",
            "[nltk_data]   Package stopwords is already up-to-date!\n"
          ]
        }
      ],
      "source": [
        "###############################\n",
        "# Stopwords\n",
        "###############################\n",
        "\n",
        "# dilde ölçümsel bir anlamı olmayan sıklıkla kullanılan kelimeler( of ,is ,this,for vb.)\n",
        "\n",
        "import nltk\n",
        "nltk.download('stopwords')\n",
        "\n",
        "sw = stopwords.words('english')"
      ]
    },
    {
      "cell_type": "code",
      "execution_count": null,
      "metadata": {
        "colab": {
          "base_uri": "https://localhost:8080/"
        },
        "id": "dByXJXJ_jMSA",
        "outputId": "c6a4f85c-5df2-49da-f4ec-f7d158d89544"
      },
      "outputs": [
        {
          "output_type": "execute_result",
          "data": {
            "text/plain": [
              "0                                                     😚\n",
              "1                                   Olyan kedves vagyol\n",
              "2                                                 Hello\n",
              "3                            Látom nem jell szeretleket\n",
              "4                          ausőnbe kesztyűè meg fűzetek\n",
              "5     https://youtube.com/shorts/j_HZjzVDQTA?feature...\n",
              "6                                               What???\n",
              "7     In August 2019 6.3B 😱 Now 7.6B After 2years 3m...\n",
              "8                        Those looked newest comments 😮\n",
              "9                                                  Bruh\n",
              "10                           person listening song 2021\n",
              "11    Cah believe come four year mi listen back soun...\n",
              "12                       realize watched video youtube?\n",
              "13                                         schmutz wërk\n",
              "14                                              SCHMUTZ\n",
              "15                               Top 1 global view song\n",
              "16                  I understand language like music 😅😅\n",
              "17                              Steal I enjoy song ☺️☺️\n",
              "18                                                 عربي\n",
              "19                                            Szeretlek\n",
              "Name: text, dtype: object"
            ]
          },
          "metadata": {},
          "execution_count": 20
        }
      ],
      "source": [
        "df1['text'] = df['text'].apply(lambda x: \" \".join(x for x in str(x).split() if x not in sw))\n",
        "df1[\"text\"].head(20)"
      ]
    },
    {
      "cell_type": "code",
      "source": [
        "df2 = df.head(20)"
      ],
      "metadata": {
        "id": "VtFMeaN8ni0u"
      },
      "execution_count": null,
      "outputs": []
    },
    {
      "cell_type": "code",
      "source": [
        "df2"
      ],
      "metadata": {
        "colab": {
          "base_uri": "https://localhost:8080/",
          "height": 806
        },
        "id": "NUUTadm6oL4L",
        "outputId": "dcd72b6b-201e-4b7e-e38a-d5602c6dd52e"
      },
      "execution_count": null,
      "outputs": [
        {
          "output_type": "execute_result",
          "data": {
            "text/plain": [
              "                                                  cid                                               text                         time               author                   channel votes                                              photo\n",
              "0                          UgyTVBhlOJmdTsghxXV4AaABAg                                                  😚                1 dakika önce        Renàta Németh  UC310yReVLuaLKtizh-aRwcQ     0  https://yt3.ggpht.com/ytc/AKedOLRZHIxt5TPwc2ol...\n",
              "1                          UgyMI_Iaj1KvPIrLcdR4AaABAg                                Olyan kedves vagyol                3 dakika önce        Renàta Németh  UC310yReVLuaLKtizh-aRwcQ     0  https://yt3.ggpht.com/ytc/AKedOLRZHIxt5TPwc2ol...\n",
              "2                          Ugx4b3LEWSLfO3THhRB4AaABAg                                              Hello                3 dakika önce  Half Popped Popcorn  UCrtoZ1NURpszjq_C7iXfvVQ     0  https://yt3.ggpht.com/mJ3X3tUkyJBj7eQ4xpYSyRoC...\n",
              "3                          UgynhdgFiQeyajr6cRN4AaABAg                       Látom nem jell a szeretleket                3 dakika önce        Renàta Németh  UC310yReVLuaLKtizh-aRwcQ     0  https://yt3.ggpht.com/ytc/AKedOLRZHIxt5TPwc2ol...\n",
              "4                          Ugwt35J6WTgF4kJuV8h4AaABAg                    ausőnbe    kesztyűè meg fűzetek   4 dakika önce (düzenlendi)        Renàta Németh  UC310yReVLuaLKtizh-aRwcQ     0  https://yt3.ggpht.com/ytc/AKedOLRZHIxt5TPwc2ol...\n",
              "5                          Ugzz9ouVd9M7mD0CpA54AaABAg  https://youtube.com/shorts/j_HZjzVDQTA?feature...                5 dakika önce    Just for Fun club  UCxa1WvtDgq7q0L578GZi4AQ     0  https://yt3.ggpht.com/BsABL_3hhv7n9G5N0fOIH4s8...\n",
              "6                          UgwwE77EsbhRwyrceQZ4AaABAg                                            What???                8 dakika önce                Noice  UC80DpwHBGx_NDilR3Xh1t1w     0  https://yt3.ggpht.com/ytc/AKedOLRnh3e0TgbddIsp...\n",
              "7                          UgyPfwYgTxIvICrHo994AaABAg  In August 2019  it was 6.3B 😱\\nNow it is 7.6B\\...  17 dakika önce (düzenlendi)        Emraan Hashmi  UCIjCDDllQmHFmp1y9zJKEAQ     0  https://yt3.ggpht.com/CoAi3nCP4PPYQqd40TyL4ljQ...\n",
              "8                          UgxeVeZnt75mD7vi04V4AaABAg                 Those who looked newest comments 😮               18 dakika önce           ALL IN ONE  UCYeWSUYevjTOJL83J7McXag     2  https://yt3.ggpht.com/mVA9rxlUE5E5sLc39cTxU0nn...\n",
              "9                          UgwmG9fVOsTBryLbJk94AaABAg                                               Bruh               19 dakika önce  Veyron Remix Nation  UCGqSN-9d8OAYR63DtJnAeAQ     0  https://yt3.ggpht.com/tH9I0m2xa24TbYfW6LhZMIvm...\n",
              "10                         UgyUpj6Oph09UZp8wqB4AaABAg  you are not the only person who is listening t...               20 dakika önce          𝕬𝖗𝖕𝖆𝖓 ᖘคบl✨  UCheUz7vZR1yKZT-wUXCyIfA     1  https://yt3.ggpht.com/A8k8foJaayrjlgI1Ytyta-vy...\n",
              "11                         Ugwh9ABu65z0rmoq9wN4AaABAg  Cah believe this come out four year but when m...               26 dakika önce        Jordon Walker  UCxCTHBNTshnin2MAnf4OJcQ     1  https://yt3.ggpht.com/ytc/AKedOLROD8686aXhbODu...\n",
              "12                         UgwIfjCZd6gch54c6h94AaABAg  i can not realize how it is the most watched v...               26 dakika önce          𝕬𝖗𝖕𝖆𝖓 ᖘคบl✨  UCheUz7vZR1yKZT-wUXCyIfA     2  https://yt3.ggpht.com/A8k8foJaayrjlgI1Ytyta-vy...\n",
              "13                         Ugy-zk9ou5jEKYk0uD94AaABAg                                       schmutz wërk               28 dakika önce        ɢʟɪᴛᴄʜᴇᴅ ᴡᴏʟꜰ  UCm1o2GuvsYMotRAIiLGenPQ     0  https://yt3.ggpht.com/YCvl4430Y8Dn_qQMIfuP0FXx...\n",
              "14                         UgwfgURMtTRFPP8rbmt4AaABAg                                            SCHMUTZ               32 dakika önce            DART4PAU7  UCDddGHMziHONAPTYPFygoFg     2  https://yt3.ggpht.com/ytc/AKedOLSXsmzdcyaVU0VN...\n",
              "15                         Ugz4h6CjbnrLezxbV5F4AaABAg                             Top 1 global view song               33 dakika önce            2DAY MOOD  UCx82sp0fouMmUE5jCzsckjA     2  https://yt3.ggpht.com/7l26rL6J-rKZEQyFG_tCK2nk...\n",
              "16                         UgyQRlunvuUn1uav20B4AaABAg  I don't understand the language but like the m...               34 dakika önce          Suleman Ali  UC7CiSyfvG1jb8eZI6S982JQ     1  https://yt3.ggpht.com/ytc/AKedOLQeSthxHil8O1m2...\n",
              "17                         UgzHmpUKKsVB6k_p3nh4AaABAg            Steal I am here for enjoy the song ☺️☺️               38 dakika önce        Arjun Goswami  UCuv_uxMTmKMY6Hs0oYRXrZw     2  https://yt3.ggpht.com/ytc/AKedOLRvlvZKIkRXFbUz...\n",
              "18  UgyQRlunvuUn1uav20B4AaABAg.9UlmROsRA-19UlojEg3sea                                               عربي               14 dakika önce        Ali abdalqawi  UCa_I-k7L2FIQSy7UZ2-i_zA     0  https://yt3.ggpht.com/ytc/AKedOLQ0N9Fu_3Tx_rZ5...\n",
              "19                         UgznS6Pofx_8dPGQM414AaABAg                                          Szeretlek               39 dakika önce        Renàta Németh  UC310yReVLuaLKtizh-aRwcQ     0  https://yt3.ggpht.com/ytc/AKedOLRZHIxt5TPwc2ol..."
            ],
            "text/html": [
              "\n",
              "  <div id=\"df-498b0bf4-a548-41fc-b1a4-e814edb5fdd1\">\n",
              "    <div class=\"colab-df-container\">\n",
              "      <div>\n",
              "<style scoped>\n",
              "    .dataframe tbody tr th:only-of-type {\n",
              "        vertical-align: middle;\n",
              "    }\n",
              "\n",
              "    .dataframe tbody tr th {\n",
              "        vertical-align: top;\n",
              "    }\n",
              "\n",
              "    .dataframe thead th {\n",
              "        text-align: right;\n",
              "    }\n",
              "</style>\n",
              "<table border=\"1\" class=\"dataframe\">\n",
              "  <thead>\n",
              "    <tr style=\"text-align: right;\">\n",
              "      <th></th>\n",
              "      <th>cid</th>\n",
              "      <th>text</th>\n",
              "      <th>time</th>\n",
              "      <th>author</th>\n",
              "      <th>channel</th>\n",
              "      <th>votes</th>\n",
              "      <th>photo</th>\n",
              "    </tr>\n",
              "  </thead>\n",
              "  <tbody>\n",
              "    <tr>\n",
              "      <th>0</th>\n",
              "      <td>UgyTVBhlOJmdTsghxXV4AaABAg</td>\n",
              "      <td>😚</td>\n",
              "      <td>1 dakika önce</td>\n",
              "      <td>Renàta Németh</td>\n",
              "      <td>UC310yReVLuaLKtizh-aRwcQ</td>\n",
              "      <td>0</td>\n",
              "      <td>https://yt3.ggpht.com/ytc/AKedOLRZHIxt5TPwc2ol...</td>\n",
              "    </tr>\n",
              "    <tr>\n",
              "      <th>1</th>\n",
              "      <td>UgyMI_Iaj1KvPIrLcdR4AaABAg</td>\n",
              "      <td>Olyan kedves vagyol</td>\n",
              "      <td>3 dakika önce</td>\n",
              "      <td>Renàta Németh</td>\n",
              "      <td>UC310yReVLuaLKtizh-aRwcQ</td>\n",
              "      <td>0</td>\n",
              "      <td>https://yt3.ggpht.com/ytc/AKedOLRZHIxt5TPwc2ol...</td>\n",
              "    </tr>\n",
              "    <tr>\n",
              "      <th>2</th>\n",
              "      <td>Ugx4b3LEWSLfO3THhRB4AaABAg</td>\n",
              "      <td>Hello</td>\n",
              "      <td>3 dakika önce</td>\n",
              "      <td>Half Popped Popcorn</td>\n",
              "      <td>UCrtoZ1NURpszjq_C7iXfvVQ</td>\n",
              "      <td>0</td>\n",
              "      <td>https://yt3.ggpht.com/mJ3X3tUkyJBj7eQ4xpYSyRoC...</td>\n",
              "    </tr>\n",
              "    <tr>\n",
              "      <th>3</th>\n",
              "      <td>UgynhdgFiQeyajr6cRN4AaABAg</td>\n",
              "      <td>Látom nem jell a szeretleket</td>\n",
              "      <td>3 dakika önce</td>\n",
              "      <td>Renàta Németh</td>\n",
              "      <td>UC310yReVLuaLKtizh-aRwcQ</td>\n",
              "      <td>0</td>\n",
              "      <td>https://yt3.ggpht.com/ytc/AKedOLRZHIxt5TPwc2ol...</td>\n",
              "    </tr>\n",
              "    <tr>\n",
              "      <th>4</th>\n",
              "      <td>Ugwt35J6WTgF4kJuV8h4AaABAg</td>\n",
              "      <td>ausőnbe    kesztyűè meg fűzetek</td>\n",
              "      <td>4 dakika önce (düzenlendi)</td>\n",
              "      <td>Renàta Németh</td>\n",
              "      <td>UC310yReVLuaLKtizh-aRwcQ</td>\n",
              "      <td>0</td>\n",
              "      <td>https://yt3.ggpht.com/ytc/AKedOLRZHIxt5TPwc2ol...</td>\n",
              "    </tr>\n",
              "    <tr>\n",
              "      <th>5</th>\n",
              "      <td>Ugzz9ouVd9M7mD0CpA54AaABAg</td>\n",
              "      <td>https://youtube.com/shorts/j_HZjzVDQTA?feature...</td>\n",
              "      <td>5 dakika önce</td>\n",
              "      <td>Just for Fun club</td>\n",
              "      <td>UCxa1WvtDgq7q0L578GZi4AQ</td>\n",
              "      <td>0</td>\n",
              "      <td>https://yt3.ggpht.com/BsABL_3hhv7n9G5N0fOIH4s8...</td>\n",
              "    </tr>\n",
              "    <tr>\n",
              "      <th>6</th>\n",
              "      <td>UgwwE77EsbhRwyrceQZ4AaABAg</td>\n",
              "      <td>What???</td>\n",
              "      <td>8 dakika önce</td>\n",
              "      <td>Noice</td>\n",
              "      <td>UC80DpwHBGx_NDilR3Xh1t1w</td>\n",
              "      <td>0</td>\n",
              "      <td>https://yt3.ggpht.com/ytc/AKedOLRnh3e0TgbddIsp...</td>\n",
              "    </tr>\n",
              "    <tr>\n",
              "      <th>7</th>\n",
              "      <td>UgyPfwYgTxIvICrHo994AaABAg</td>\n",
              "      <td>In August 2019  it was 6.3B 😱\\nNow it is 7.6B\\...</td>\n",
              "      <td>17 dakika önce (düzenlendi)</td>\n",
              "      <td>Emraan Hashmi</td>\n",
              "      <td>UCIjCDDllQmHFmp1y9zJKEAQ</td>\n",
              "      <td>0</td>\n",
              "      <td>https://yt3.ggpht.com/CoAi3nCP4PPYQqd40TyL4ljQ...</td>\n",
              "    </tr>\n",
              "    <tr>\n",
              "      <th>8</th>\n",
              "      <td>UgxeVeZnt75mD7vi04V4AaABAg</td>\n",
              "      <td>Those who looked newest comments 😮</td>\n",
              "      <td>18 dakika önce</td>\n",
              "      <td>ALL IN ONE</td>\n",
              "      <td>UCYeWSUYevjTOJL83J7McXag</td>\n",
              "      <td>2</td>\n",
              "      <td>https://yt3.ggpht.com/mVA9rxlUE5E5sLc39cTxU0nn...</td>\n",
              "    </tr>\n",
              "    <tr>\n",
              "      <th>9</th>\n",
              "      <td>UgwmG9fVOsTBryLbJk94AaABAg</td>\n",
              "      <td>Bruh</td>\n",
              "      <td>19 dakika önce</td>\n",
              "      <td>Veyron Remix Nation</td>\n",
              "      <td>UCGqSN-9d8OAYR63DtJnAeAQ</td>\n",
              "      <td>0</td>\n",
              "      <td>https://yt3.ggpht.com/tH9I0m2xa24TbYfW6LhZMIvm...</td>\n",
              "    </tr>\n",
              "    <tr>\n",
              "      <th>10</th>\n",
              "      <td>UgyUpj6Oph09UZp8wqB4AaABAg</td>\n",
              "      <td>you are not the only person who is listening t...</td>\n",
              "      <td>20 dakika önce</td>\n",
              "      <td>𝕬𝖗𝖕𝖆𝖓 ᖘคบl✨</td>\n",
              "      <td>UCheUz7vZR1yKZT-wUXCyIfA</td>\n",
              "      <td>1</td>\n",
              "      <td>https://yt3.ggpht.com/A8k8foJaayrjlgI1Ytyta-vy...</td>\n",
              "    </tr>\n",
              "    <tr>\n",
              "      <th>11</th>\n",
              "      <td>Ugwh9ABu65z0rmoq9wN4AaABAg</td>\n",
              "      <td>Cah believe this come out four year but when m...</td>\n",
              "      <td>26 dakika önce</td>\n",
              "      <td>Jordon Walker</td>\n",
              "      <td>UCxCTHBNTshnin2MAnf4OJcQ</td>\n",
              "      <td>1</td>\n",
              "      <td>https://yt3.ggpht.com/ytc/AKedOLROD8686aXhbODu...</td>\n",
              "    </tr>\n",
              "    <tr>\n",
              "      <th>12</th>\n",
              "      <td>UgwIfjCZd6gch54c6h94AaABAg</td>\n",
              "      <td>i can not realize how it is the most watched v...</td>\n",
              "      <td>26 dakika önce</td>\n",
              "      <td>𝕬𝖗𝖕𝖆𝖓 ᖘคบl✨</td>\n",
              "      <td>UCheUz7vZR1yKZT-wUXCyIfA</td>\n",
              "      <td>2</td>\n",
              "      <td>https://yt3.ggpht.com/A8k8foJaayrjlgI1Ytyta-vy...</td>\n",
              "    </tr>\n",
              "    <tr>\n",
              "      <th>13</th>\n",
              "      <td>Ugy-zk9ou5jEKYk0uD94AaABAg</td>\n",
              "      <td>schmutz wërk</td>\n",
              "      <td>28 dakika önce</td>\n",
              "      <td>ɢʟɪᴛᴄʜᴇᴅ ᴡᴏʟꜰ</td>\n",
              "      <td>UCm1o2GuvsYMotRAIiLGenPQ</td>\n",
              "      <td>0</td>\n",
              "      <td>https://yt3.ggpht.com/YCvl4430Y8Dn_qQMIfuP0FXx...</td>\n",
              "    </tr>\n",
              "    <tr>\n",
              "      <th>14</th>\n",
              "      <td>UgwfgURMtTRFPP8rbmt4AaABAg</td>\n",
              "      <td>SCHMUTZ</td>\n",
              "      <td>32 dakika önce</td>\n",
              "      <td>DART4PAU7</td>\n",
              "      <td>UCDddGHMziHONAPTYPFygoFg</td>\n",
              "      <td>2</td>\n",
              "      <td>https://yt3.ggpht.com/ytc/AKedOLSXsmzdcyaVU0VN...</td>\n",
              "    </tr>\n",
              "    <tr>\n",
              "      <th>15</th>\n",
              "      <td>Ugz4h6CjbnrLezxbV5F4AaABAg</td>\n",
              "      <td>Top 1 global view song</td>\n",
              "      <td>33 dakika önce</td>\n",
              "      <td>2DAY MOOD</td>\n",
              "      <td>UCx82sp0fouMmUE5jCzsckjA</td>\n",
              "      <td>2</td>\n",
              "      <td>https://yt3.ggpht.com/7l26rL6J-rKZEQyFG_tCK2nk...</td>\n",
              "    </tr>\n",
              "    <tr>\n",
              "      <th>16</th>\n",
              "      <td>UgyQRlunvuUn1uav20B4AaABAg</td>\n",
              "      <td>I don't understand the language but like the m...</td>\n",
              "      <td>34 dakika önce</td>\n",
              "      <td>Suleman Ali</td>\n",
              "      <td>UC7CiSyfvG1jb8eZI6S982JQ</td>\n",
              "      <td>1</td>\n",
              "      <td>https://yt3.ggpht.com/ytc/AKedOLQeSthxHil8O1m2...</td>\n",
              "    </tr>\n",
              "    <tr>\n",
              "      <th>17</th>\n",
              "      <td>UgzHmpUKKsVB6k_p3nh4AaABAg</td>\n",
              "      <td>Steal I am here for enjoy the song ☺️☺️</td>\n",
              "      <td>38 dakika önce</td>\n",
              "      <td>Arjun Goswami</td>\n",
              "      <td>UCuv_uxMTmKMY6Hs0oYRXrZw</td>\n",
              "      <td>2</td>\n",
              "      <td>https://yt3.ggpht.com/ytc/AKedOLRvlvZKIkRXFbUz...</td>\n",
              "    </tr>\n",
              "    <tr>\n",
              "      <th>18</th>\n",
              "      <td>UgyQRlunvuUn1uav20B4AaABAg.9UlmROsRA-19UlojEg3sea</td>\n",
              "      <td>عربي</td>\n",
              "      <td>14 dakika önce</td>\n",
              "      <td>Ali abdalqawi</td>\n",
              "      <td>UCa_I-k7L2FIQSy7UZ2-i_zA</td>\n",
              "      <td>0</td>\n",
              "      <td>https://yt3.ggpht.com/ytc/AKedOLQ0N9Fu_3Tx_rZ5...</td>\n",
              "    </tr>\n",
              "    <tr>\n",
              "      <th>19</th>\n",
              "      <td>UgznS6Pofx_8dPGQM414AaABAg</td>\n",
              "      <td>Szeretlek</td>\n",
              "      <td>39 dakika önce</td>\n",
              "      <td>Renàta Németh</td>\n",
              "      <td>UC310yReVLuaLKtizh-aRwcQ</td>\n",
              "      <td>0</td>\n",
              "      <td>https://yt3.ggpht.com/ytc/AKedOLRZHIxt5TPwc2ol...</td>\n",
              "    </tr>\n",
              "  </tbody>\n",
              "</table>\n",
              "</div>\n",
              "      <button class=\"colab-df-convert\" onclick=\"convertToInteractive('df-498b0bf4-a548-41fc-b1a4-e814edb5fdd1')\"\n",
              "              title=\"Convert this dataframe to an interactive table.\"\n",
              "              style=\"display:none;\">\n",
              "        \n",
              "  <svg xmlns=\"http://www.w3.org/2000/svg\" height=\"24px\"viewBox=\"0 0 24 24\"\n",
              "       width=\"24px\">\n",
              "    <path d=\"M0 0h24v24H0V0z\" fill=\"none\"/>\n",
              "    <path d=\"M18.56 5.44l.94 2.06.94-2.06 2.06-.94-2.06-.94-.94-2.06-.94 2.06-2.06.94zm-11 1L8.5 8.5l.94-2.06 2.06-.94-2.06-.94L8.5 2.5l-.94 2.06-2.06.94zm10 10l.94 2.06.94-2.06 2.06-.94-2.06-.94-.94-2.06-.94 2.06-2.06.94z\"/><path d=\"M17.41 7.96l-1.37-1.37c-.4-.4-.92-.59-1.43-.59-.52 0-1.04.2-1.43.59L10.3 9.45l-7.72 7.72c-.78.78-.78 2.05 0 2.83L4 21.41c.39.39.9.59 1.41.59.51 0 1.02-.2 1.41-.59l7.78-7.78 2.81-2.81c.8-.78.8-2.07 0-2.86zM5.41 20L4 18.59l7.72-7.72 1.47 1.35L5.41 20z\"/>\n",
              "  </svg>\n",
              "      </button>\n",
              "      \n",
              "  <style>\n",
              "    .colab-df-container {\n",
              "      display:flex;\n",
              "      flex-wrap:wrap;\n",
              "      gap: 12px;\n",
              "    }\n",
              "\n",
              "    .colab-df-convert {\n",
              "      background-color: #E8F0FE;\n",
              "      border: none;\n",
              "      border-radius: 50%;\n",
              "      cursor: pointer;\n",
              "      display: none;\n",
              "      fill: #1967D2;\n",
              "      height: 32px;\n",
              "      padding: 0 0 0 0;\n",
              "      width: 32px;\n",
              "    }\n",
              "\n",
              "    .colab-df-convert:hover {\n",
              "      background-color: #E2EBFA;\n",
              "      box-shadow: 0px 1px 2px rgba(60, 64, 67, 0.3), 0px 1px 3px 1px rgba(60, 64, 67, 0.15);\n",
              "      fill: #174EA6;\n",
              "    }\n",
              "\n",
              "    [theme=dark] .colab-df-convert {\n",
              "      background-color: #3B4455;\n",
              "      fill: #D2E3FC;\n",
              "    }\n",
              "\n",
              "    [theme=dark] .colab-df-convert:hover {\n",
              "      background-color: #434B5C;\n",
              "      box-shadow: 0px 1px 3px 1px rgba(0, 0, 0, 0.15);\n",
              "      filter: drop-shadow(0px 1px 2px rgba(0, 0, 0, 0.3));\n",
              "      fill: #FFFFFF;\n",
              "    }\n",
              "  </style>\n",
              "\n",
              "      <script>\n",
              "        const buttonEl =\n",
              "          document.querySelector('#df-498b0bf4-a548-41fc-b1a4-e814edb5fdd1 button.colab-df-convert');\n",
              "        buttonEl.style.display =\n",
              "          google.colab.kernel.accessAllowed ? 'block' : 'none';\n",
              "\n",
              "        async function convertToInteractive(key) {\n",
              "          const element = document.querySelector('#df-498b0bf4-a548-41fc-b1a4-e814edb5fdd1');\n",
              "          const dataTable =\n",
              "            await google.colab.kernel.invokeFunction('convertToInteractive',\n",
              "                                                     [key], {});\n",
              "          if (!dataTable) return;\n",
              "\n",
              "          const docLinkHtml = 'Like what you see? Visit the ' +\n",
              "            '<a target=\"_blank\" href=https://colab.research.google.com/notebooks/data_table.ipynb>data table notebook</a>'\n",
              "            + ' to learn more about interactive tables.';\n",
              "          element.innerHTML = '';\n",
              "          dataTable['output_type'] = 'display_data';\n",
              "          await google.colab.output.renderOutput(dataTable, element);\n",
              "          const docLink = document.createElement('div');\n",
              "          docLink.innerHTML = docLinkHtml;\n",
              "          element.appendChild(docLink);\n",
              "        }\n",
              "      </script>\n",
              "    </div>\n",
              "  </div>\n",
              "  "
            ]
          },
          "metadata": {},
          "execution_count": 48
        }
      ]
    },
    {
      "cell_type": "code",
      "execution_count": null,
      "metadata": {
        "colab": {
          "base_uri": "https://localhost:8080/",
          "height": 164
        },
        "id": "2otQlCYYNQDh",
        "outputId": "4c4b6a19-fd9f-4ced-a687-fa1290378816"
      },
      "outputs": [
        {
          "ename": "NameError",
          "evalue": "ignored",
          "output_type": "error",
          "traceback": [
            "\u001b[0;31m---------------------------------------------------------------------------\u001b[0m",
            "\u001b[0;31mNameError\u001b[0m                                 Traceback (most recent call last)",
            "\u001b[0;32m<ipython-input-1-2654d2e18e9c>\u001b[0m in \u001b[0;36m<module>\u001b[0;34m()\u001b[0m\n\u001b[0;32m----> 1\u001b[0;31m \u001b[0mcumle_df\u001b[0m \u001b[0;34m=\u001b[0m \u001b[0mpd\u001b[0m\u001b[0;34m.\u001b[0m\u001b[0mSeries\u001b[0m\u001b[0;34m(\u001b[0m\u001b[0;34m' '\u001b[0m\u001b[0;34m.\u001b[0m\u001b[0mjoin\u001b[0m\u001b[0;34m(\u001b[0m\u001b[0mdf\u001b[0m\u001b[0;34m[\u001b[0m\u001b[0;34m'text'\u001b[0m\u001b[0;34m]\u001b[0m\u001b[0;34m)\u001b[0m\u001b[0;34m)\u001b[0m\u001b[0;34m.\u001b[0m\u001b[0mvalue_counts\u001b[0m\u001b[0;34m(\u001b[0m\u001b[0;34m)\u001b[0m\u001b[0;34m\u001b[0m\u001b[0;34m\u001b[0m\u001b[0m\n\u001b[0m",
            "\u001b[0;31mNameError\u001b[0m: name 'pd' is not defined"
          ]
        }
      ],
      "source": [
        "#cumle_df = pd.Series(' '.join(df['text'])).value_counts()"
      ]
    },
    {
      "cell_type": "code",
      "execution_count": null,
      "metadata": {
        "id": "1efG064ujMSA"
      },
      "outputs": [],
      "source": [
        "###############################\n",
        "#   Frequency & Rarewords\n",
        "###############################\n",
        "\n",
        "# kelimelerin frekansı bulup belirledigimiz frekans altında kalanları metin dısında bırakmak icin kullanıcaz\n",
        "# metin icerisinde 1 kere gecen kelimeleri bulup ucuruyoruz\n",
        "\n",
        "temp_df = pd.Series(' '.join(df1['text']).split()).value_counts()"
      ]
    },
    {
      "cell_type": "code",
      "execution_count": null,
      "metadata": {
        "id": "UNuBt7H3jMSA"
      },
      "outputs": [],
      "source": [
        "#hangi kelimenin kaç defa geçtiğini buluyoruz yani frekanslarını\n",
        "temp_df  "
      ]
    },
    {
      "cell_type": "code",
      "execution_count": null,
      "metadata": {
        "id": "TO541hzAjMSB"
      },
      "outputs": [],
      "source": [
        "temp_df[\"turkey\"]"
      ]
    },
    {
      "cell_type": "code",
      "execution_count": null,
      "metadata": {
        "colab": {
          "base_uri": "https://localhost:8080/"
        },
        "id": "fTkOjNg4jMSB",
        "outputId": "fa20dd5c-3cc3-41cb-dfb3-d8aaf47a7700"
      },
      "outputs": [
        {
          "data": {
            "text/plain": [
              "neurotroll                              1\n",
              "fjejsjdjcejhje                          1\n",
              "httpswwwyoutubecomwatchvgugpjducjsts    1\n",
              "cavz                                    1\n",
              "dweas                                   1\n",
              "                                       ..\n",
              "followage                               1\n",
              "süpərrr                                 1\n",
              "httpswwwyoutubecomwatchvgddmvclpfts     1\n",
              "httpswwwyoutubecomwatchvvawauifra       1\n",
              "httpsyoutubexlqrsgqfa                   1\n",
              "Length: 238567, dtype: int64"
            ]
          },
          "execution_count": 22,
          "metadata": {},
          "output_type": "execute_result"
        }
      ],
      "source": [
        "#drops = temp_df[temp_df <= 1]\n",
        "#drops"
      ]
    },
    {
      "cell_type": "code",
      "execution_count": null,
      "metadata": {
        "colab": {
          "base_uri": "https://localhost:8080/"
        },
        "id": "p-vDuK-wjMSB",
        "outputId": "2e79cbb3-0bd5-42af-c2e1-094eb622187e"
      },
      "outputs": [
        {
          "data": {
            "text/plain": [
              "0                                                 \n",
              "1                              olyan kedves vagyol\n",
              "2                                            hello\n",
              "3                       látom nem jell szeretleket\n",
              "4                                              meg\n",
              "                            ...                   \n",
              "1213508    billions last time checked billions wow\n",
              "1213509                             ingles español\n",
              "1213510                                           \n",
              "1213511                     quien lo escucha en el\n",
              "1213512                          watching december\n",
              "Name: text, Length: 1213513, dtype: object"
            ]
          },
          "execution_count": 24,
          "metadata": {},
          "output_type": "execute_result"
        }
      ],
      "source": [
        "#df['text'] = df['text'].apply(lambda x: \" \".join(x for x in x.split() if x not in drops))\n",
        "#df['text']"
      ]
    },
    {
      "cell_type": "code",
      "execution_count": null,
      "metadata": {
        "id": "F6rw284MjMSC"
      },
      "outputs": [],
      "source": [
        "# boş satırları siliyoruz\n",
        "#df[\"text\"].dropna(\"\") \n",
        "#df[\"text\"]"
      ]
    },
    {
      "cell_type": "code",
      "execution_count": null,
      "metadata": {
        "id": "3h1CNsjWjMSC"
      },
      "outputs": [],
      "source": [
        "df[\"text\"][1647177]"
      ]
    },
    {
      "cell_type": "code",
      "execution_count": null,
      "metadata": {
        "colab": {
          "base_uri": "https://localhost:8080/"
        },
        "id": "S9-w4E2_jMSC",
        "outputId": "61d1a9bf-3578-4d27-ca0b-b5a6a6d2c824"
      },
      "outputs": [
        {
          "name": "stdout",
          "output_type": "stream",
          "text": [
            "[nltk_data] Downloading package wordnet to /root/nltk_data...\n",
            "[nltk_data]   Unzipping corpora/wordnet.zip.\n"
          ]
        },
        {
          "data": {
            "text/plain": [
              "True"
            ]
          },
          "execution_count": 25,
          "metadata": {},
          "output_type": "execute_result"
        }
      ],
      "source": [
        "###############################\n",
        "# Lemmatization : kelimeleri köklerine ayırma islemi\n",
        "###############################\n",
        "\n",
        "nltk.download('wordnet')"
      ]
    },
    {
      "cell_type": "code",
      "execution_count": null,
      "metadata": {
        "id": "cwSGtqNcjMSC"
      },
      "outputs": [],
      "source": [
        "df['text'] = df['text'].apply(lambda x: \" \".join([Word(i).lemmatize() for i in x.split()]))"
      ]
    },
    {
      "cell_type": "code",
      "execution_count": null,
      "metadata": {
        "colab": {
          "base_uri": "https://localhost:8080/"
        },
        "id": "2ve-v5JJjMSD",
        "outputId": "58f95ce4-4827-4996-8aa0-b9ac07e571d6"
      },
      "outputs": [
        {
          "data": {
            "text/plain": [
              "0                                               \n",
              "1                            olyan kedves vagyol\n",
              "2                                          hello\n",
              "3                     látom nem jell szeretleket\n",
              "4                                            meg\n",
              "                           ...                  \n",
              "1213508    billion last time checked billion wow\n",
              "1213509                           ingles español\n",
              "1213510                                         \n",
              "1213511                   quien lo escucha en el\n",
              "1213512                        watching december\n",
              "Name: text, Length: 1213513, dtype: object"
            ]
          },
          "execution_count": 27,
          "metadata": {},
          "output_type": "execute_result"
        }
      ],
      "source": [
        "df['text']"
      ]
    },
    {
      "cell_type": "code",
      "execution_count": null,
      "metadata": {
        "colab": {
          "base_uri": "https://localhost:8080/"
        },
        "id": "1bFff5qs2sli",
        "outputId": "d2a1760b-9dbb-4674-f65c-1800a329c078"
      },
      "outputs": [
        {
          "name": "stderr",
          "output_type": "stream",
          "text": [
            "[nltk_data] Downloading package stopwords to /root/nltk_data...\n",
            "[nltk_data]   Unzipping corpora/stopwords.zip.\n"
          ]
        },
        {
          "data": {
            "text/plain": [
              "['i', 'me', 'my', 'myself', 'we', 'our', 'ours', 'ourselves', 'you', \"you're\"]"
            ]
          },
          "execution_count": 13,
          "metadata": {},
          "output_type": "execute_result"
        }
      ],
      "source": [
        "from nltk.corpus import stopwords\n",
        "import nltk\n",
        "from nltk import wordpunct_tokenize\n",
        "\n",
        "nltk.download('stopwords')\n",
        "stopwords.fileids()\n",
        "stopwords.words('english')[0:10]"
      ]
    },
    {
      "cell_type": "code",
      "execution_count": null,
      "metadata": {
        "id": "wcsSyrYcjMR8"
      },
      "outputs": [],
      "source": [
        "#count unique stopwords\n",
        "\n",
        "languages_ratios = {}\n",
        "\n",
        "for language in stopwords.fileids():\n",
        "      stopwords_set = set(stopwords.words(language))\n",
        "      words_set = set(mf)\n",
        "      common_elements = words_set.intersection(stopwords_set)\n",
        "      languages_ratios[language] = len(common_elements)"
      ]
    },
    {
      "cell_type": "code",
      "execution_count": null,
      "metadata": {
        "colab": {
          "base_uri": "https://localhost:8080/"
        },
        "id": "Rh50qNKrEN7N",
        "outputId": "0e0eddfa-00e6-4060-cf55-4889878c197e"
      },
      "outputs": [
        {
          "data": {
            "text/plain": [
              "{'arabic': 64,\n",
              " 'azerbaijani': 28,\n",
              " 'basque': 22,\n",
              " 'bengali': 1,\n",
              " 'catalan': 74,\n",
              " 'chinese': 14,\n",
              " 'danish': 34,\n",
              " 'dutch': 42,\n",
              " 'english': 102,\n",
              " 'finnish': 16,\n",
              " 'french': 59,\n",
              " 'german': 38,\n",
              " 'greek': 2,\n",
              " 'hebrew': 5,\n",
              " 'hinglish': 360,\n",
              " 'hungarian': 44,\n",
              " 'indonesian': 36,\n",
              " 'italian': 64,\n",
              " 'kazakh': 11,\n",
              " 'nepali': 5,\n",
              " 'norwegian': 44,\n",
              " 'portuguese': 55,\n",
              " 'romanian': 83,\n",
              " 'russian': 59,\n",
              " 'slovene': 86,\n",
              " 'spanish': 76,\n",
              " 'swedish': 25,\n",
              " 'tajik': 13,\n",
              " 'turkish': 16}"
            ]
          },
          "execution_count": 29,
          "metadata": {},
          "output_type": "execute_result"
        }
      ],
      "source": [
        "languages_ratios"
      ]
    },
    {
      "cell_type": "code",
      "execution_count": null,
      "metadata": {
        "id": "H5Sh7CLNjMSD"
      },
      "outputs": [],
      "source": [
        "##################################################\n",
        "# 2. Text Visualization\n",
        "##################################################\n",
        "\n",
        "###############################\n",
        "# Terim Frekanslarının Hesaplanması\n",
        "###############################\n",
        "\n",
        "# metinleri görsellestirmek icin kelimleri numeriklere cevirmek icin kelimelerin frekansını cıkarıyoruz"
      ]
    },
    {
      "cell_type": "code",
      "execution_count": null,
      "metadata": {
        "id": "t8jwZXqcjMSD"
      },
      "outputs": [],
      "source": [
        "#tf = df[\"text\"].apply(lambda x: pd.value_counts(x.split(\" \")))..sum(axis=0).reset_index()"
      ]
    },
    {
      "cell_type": "code",
      "execution_count": null,
      "metadata": {
        "id": "3RWS126CjMSE"
      },
      "outputs": [],
      "source": [
        "#tf.columns = [\"words\", \"tf\"]"
      ]
    },
    {
      "cell_type": "code",
      "execution_count": null,
      "metadata": {
        "id": "R9IvtrjJjMSE"
      },
      "outputs": [],
      "source": [
        "#tf.sort_values(\"tf\", ascending=False)"
      ]
    },
    {
      "cell_type": "code",
      "source": [],
      "metadata": {
        "id": "IfNqccEArWiV"
      },
      "execution_count": null,
      "outputs": []
    },
    {
      "cell_type": "code",
      "source": [
        "tsm_keywords = \"nice\",\"fun fact\",\"wow\",\"good\",\"like\",\"great\",\"best\",\"very nice\",\"like\",\"people\",\"i love it\",\"nice video\",\"video\",\"love it\",\"earth\",\"perfect\",\"noice\",\"here\",\"sex\",\"dogs\",\"people\",\"beautiful\",\"poto\",\"hotel\",\"porco dio\",\"when are you visiting pr🇵🇷?\",\"puerto rico\",\"awesome!\",\"outstanding\",\"normal people\""
      ],
      "metadata": {
        "id": "sAD4DIWUjBAL"
      },
      "execution_count": null,
      "outputs": []
    },
    {
      "cell_type": "code",
      "source": [
        "tsm_keywords"
      ],
      "metadata": {
        "colab": {
          "base_uri": "https://localhost:8080/"
        },
        "id": "DdlzsQHDn78D",
        "outputId": "05f66249-aba7-40ae-b84e-a466c0855d4a"
      },
      "execution_count": null,
      "outputs": [
        {
          "output_type": "execute_result",
          "data": {
            "text/plain": [
              "('nice',\n",
              " 'fun fact',\n",
              " 'wow',\n",
              " 'good',\n",
              " 'like',\n",
              " 'great',\n",
              " 'best',\n",
              " 'very nice',\n",
              " 'like',\n",
              " 'people',\n",
              " 'i love it',\n",
              " 'nice video',\n",
              " 'video',\n",
              " 'love it',\n",
              " 'earth',\n",
              " 'perfect',\n",
              " 'noice',\n",
              " 'here',\n",
              " 'sex',\n",
              " 'dogs',\n",
              " 'people',\n",
              " 'beautiful',\n",
              " 'poto',\n",
              " 'hotel',\n",
              " 'porco dio',\n",
              " 'when are you visiting pr🇵🇷?',\n",
              " 'puerto rico',\n",
              " 'awesome!',\n",
              " 'outstanding',\n",
              " 'normal people')"
            ]
          },
          "metadata": {},
          "execution_count": 45
        }
      ]
    },
    {
      "cell_type": "code",
      "source": [
        "df2.text.apply(lambda y : x for x in y.split(\" \") if any(kw in x for kw in tsm_keywords)  )"
      ],
      "metadata": {
        "colab": {
          "base_uri": "https://localhost:8080/",
          "height": 166
        },
        "id": "BgTbSTZqnn7z",
        "outputId": "4037db08-6e04-477a-dae2-edd7d59969b7"
      },
      "execution_count": null,
      "outputs": [
        {
          "output_type": "error",
          "ename": "NameError",
          "evalue": "ignored",
          "traceback": [
            "\u001b[0;31m---------------------------------------------------------------------------\u001b[0m",
            "\u001b[0;31mNameError\u001b[0m                                 Traceback (most recent call last)",
            "\u001b[0;32m<ipython-input-47-0165128bdd4f>\u001b[0m in \u001b[0;36m<module>\u001b[0;34m\u001b[0m\n\u001b[0;32m----> 1\u001b[0;31m \u001b[0mdf2\u001b[0m\u001b[0;34m.\u001b[0m\u001b[0mtext\u001b[0m\u001b[0;34m.\u001b[0m\u001b[0mapply\u001b[0m\u001b[0;34m(\u001b[0m\u001b[0;32mlambda\u001b[0m \u001b[0my\u001b[0m \u001b[0;34m:\u001b[0m \u001b[0mx\u001b[0m \u001b[0;32mfor\u001b[0m \u001b[0mx\u001b[0m \u001b[0;32min\u001b[0m \u001b[0my\u001b[0m\u001b[0;34m.\u001b[0m\u001b[0msplit\u001b[0m\u001b[0;34m(\u001b[0m\u001b[0;34m\" \"\u001b[0m\u001b[0;34m)\u001b[0m \u001b[0;32mif\u001b[0m \u001b[0many\u001b[0m\u001b[0;34m(\u001b[0m\u001b[0mkw\u001b[0m \u001b[0;32min\u001b[0m \u001b[0mx\u001b[0m \u001b[0;32mfor\u001b[0m \u001b[0mkw\u001b[0m \u001b[0;32min\u001b[0m \u001b[0mtsm_keywords\u001b[0m\u001b[0;34m)\u001b[0m  \u001b[0;34m)\u001b[0m\u001b[0;34m\u001b[0m\u001b[0;34m\u001b[0m\u001b[0m\n\u001b[0m",
            "\u001b[0;31mNameError\u001b[0m: name 'y' is not defined"
          ]
        }
      ]
    },
    {
      "cell_type": "code",
      "source": [
        "df3 = df.split(\" \")"
      ],
      "metadata": {
        "colab": {
          "base_uri": "https://localhost:8080/",
          "height": 288
        },
        "id": "P2wusyf8HnLs",
        "outputId": "96aad2da-9822-4a75-e6fd-8c855f7ee164"
      },
      "execution_count": null,
      "outputs": [
        {
          "output_type": "error",
          "ename": "AttributeError",
          "evalue": "ignored",
          "traceback": [
            "\u001b[0;31m---------------------------------------------------------------------------\u001b[0m",
            "\u001b[0;31mAttributeError\u001b[0m                            Traceback (most recent call last)",
            "\u001b[0;32m<ipython-input-67-24ce55c9b714>\u001b[0m in \u001b[0;36m<module>\u001b[0;34m\u001b[0m\n\u001b[0;32m----> 1\u001b[0;31m \u001b[0mdf3\u001b[0m \u001b[0;34m=\u001b[0m \u001b[0mdf\u001b[0m\u001b[0;34m.\u001b[0m\u001b[0msplit\u001b[0m\u001b[0;34m(\u001b[0m\u001b[0;34m\" \"\u001b[0m\u001b[0;34m)\u001b[0m\u001b[0;34m\u001b[0m\u001b[0;34m\u001b[0m\u001b[0m\n\u001b[0m",
            "\u001b[0;32m/usr/local/lib/python3.7/dist-packages/pandas/core/generic.py\u001b[0m in \u001b[0;36m__getattr__\u001b[0;34m(self, name)\u001b[0m\n\u001b[1;32m   5485\u001b[0m         ):\n\u001b[1;32m   5486\u001b[0m             \u001b[0;32mreturn\u001b[0m \u001b[0mself\u001b[0m\u001b[0;34m[\u001b[0m\u001b[0mname\u001b[0m\u001b[0;34m]\u001b[0m\u001b[0;34m\u001b[0m\u001b[0;34m\u001b[0m\u001b[0m\n\u001b[0;32m-> 5487\u001b[0;31m         \u001b[0;32mreturn\u001b[0m \u001b[0mobject\u001b[0m\u001b[0;34m.\u001b[0m\u001b[0m__getattribute__\u001b[0m\u001b[0;34m(\u001b[0m\u001b[0mself\u001b[0m\u001b[0;34m,\u001b[0m \u001b[0mname\u001b[0m\u001b[0;34m)\u001b[0m\u001b[0;34m\u001b[0m\u001b[0;34m\u001b[0m\u001b[0m\n\u001b[0m\u001b[1;32m   5488\u001b[0m \u001b[0;34m\u001b[0m\u001b[0m\n\u001b[1;32m   5489\u001b[0m     \u001b[0;32mdef\u001b[0m \u001b[0m__setattr__\u001b[0m\u001b[0;34m(\u001b[0m\u001b[0mself\u001b[0m\u001b[0;34m,\u001b[0m \u001b[0mname\u001b[0m\u001b[0;34m:\u001b[0m \u001b[0mstr\u001b[0m\u001b[0;34m,\u001b[0m \u001b[0mvalue\u001b[0m\u001b[0;34m)\u001b[0m \u001b[0;34m->\u001b[0m \u001b[0;32mNone\u001b[0m\u001b[0;34m:\u001b[0m\u001b[0;34m\u001b[0m\u001b[0;34m\u001b[0m\u001b[0m\n",
            "\u001b[0;31mAttributeError\u001b[0m: 'DataFrame' object has no attribute 'split'"
          ]
        }
      ]
    },
    {
      "cell_type": "code",
      "source": [
        "df2.count(tsm_keywords)"
      ],
      "metadata": {
        "colab": {
          "base_uri": "https://localhost:8080/",
          "height": 468
        },
        "id": "TdbzoszmvGeM",
        "outputId": "92fb41a7-5a1c-4180-cd27-06dc597b74b0"
      },
      "execution_count": null,
      "outputs": [
        {
          "output_type": "error",
          "ename": "ValueError",
          "evalue": "ignored",
          "traceback": [
            "\u001b[0;31m---------------------------------------------------------------------------\u001b[0m",
            "\u001b[0;31mKeyError\u001b[0m                                  Traceback (most recent call last)",
            "\u001b[0;32m/usr/local/lib/python3.7/dist-packages/pandas/core/generic.py\u001b[0m in \u001b[0;36m_get_axis_number\u001b[0;34m(cls, axis)\u001b[0m\n\u001b[1;32m    545\u001b[0m         \u001b[0;32mtry\u001b[0m\u001b[0;34m:\u001b[0m\u001b[0;34m\u001b[0m\u001b[0;34m\u001b[0m\u001b[0m\n\u001b[0;32m--> 546\u001b[0;31m             \u001b[0;32mreturn\u001b[0m \u001b[0mcls\u001b[0m\u001b[0;34m.\u001b[0m\u001b[0m_AXIS_TO_AXIS_NUMBER\u001b[0m\u001b[0;34m[\u001b[0m\u001b[0maxis\u001b[0m\u001b[0;34m]\u001b[0m\u001b[0;34m\u001b[0m\u001b[0;34m\u001b[0m\u001b[0m\n\u001b[0m\u001b[1;32m    547\u001b[0m         \u001b[0;32mexcept\u001b[0m \u001b[0mKeyError\u001b[0m\u001b[0;34m:\u001b[0m\u001b[0;34m\u001b[0m\u001b[0;34m\u001b[0m\u001b[0m\n",
            "\u001b[0;31mKeyError\u001b[0m: ('nice', 'fun fact', 'wow', 'good', 'like', 'great', 'best', 'very nice', 'like', 'people', 'i love it', 'nice video', 'video', 'love it', 'earth', 'perfect', 'noice', 'here', 'sex', 'dogs', 'people', 'beautiful', 'poto', 'hotel', 'porco dio', 'when are you visiting pr🇵🇷?', 'puerto rico', 'awesome!', 'outstanding', 'normal people')",
            "\nDuring handling of the above exception, another exception occurred:\n",
            "\u001b[0;31mValueError\u001b[0m                                Traceback (most recent call last)",
            "\u001b[0;32m<ipython-input-63-fe497c1b645f>\u001b[0m in \u001b[0;36m<module>\u001b[0;34m\u001b[0m\n\u001b[0;32m----> 1\u001b[0;31m \u001b[0mdf2\u001b[0m\u001b[0;34m.\u001b[0m\u001b[0mcount\u001b[0m\u001b[0;34m(\u001b[0m\u001b[0mtsm_keywords\u001b[0m\u001b[0;34m)\u001b[0m\u001b[0;34m\u001b[0m\u001b[0;34m\u001b[0m\u001b[0m\n\u001b[0m",
            "\u001b[0;32m/usr/local/lib/python3.7/dist-packages/pandas/core/frame.py\u001b[0m in \u001b[0;36mcount\u001b[0;34m(self, axis, level, numeric_only)\u001b[0m\n\u001b[1;32m   9693\u001b[0m         \u001b[0mdtype\u001b[0m\u001b[0;34m:\u001b[0m \u001b[0mint64\u001b[0m\u001b[0;34m\u001b[0m\u001b[0;34m\u001b[0m\u001b[0m\n\u001b[1;32m   9694\u001b[0m         \"\"\"\n\u001b[0;32m-> 9695\u001b[0;31m         \u001b[0maxis\u001b[0m \u001b[0;34m=\u001b[0m \u001b[0mself\u001b[0m\u001b[0;34m.\u001b[0m\u001b[0m_get_axis_number\u001b[0m\u001b[0;34m(\u001b[0m\u001b[0maxis\u001b[0m\u001b[0;34m)\u001b[0m\u001b[0;34m\u001b[0m\u001b[0;34m\u001b[0m\u001b[0m\n\u001b[0m\u001b[1;32m   9696\u001b[0m         \u001b[0;32mif\u001b[0m \u001b[0mlevel\u001b[0m \u001b[0;32mis\u001b[0m \u001b[0;32mnot\u001b[0m \u001b[0;32mNone\u001b[0m\u001b[0;34m:\u001b[0m\u001b[0;34m\u001b[0m\u001b[0;34m\u001b[0m\u001b[0m\n\u001b[1;32m   9697\u001b[0m             warnings.warn(\n",
            "\u001b[0;32m/usr/local/lib/python3.7/dist-packages/pandas/core/generic.py\u001b[0m in \u001b[0;36m_get_axis_number\u001b[0;34m(cls, axis)\u001b[0m\n\u001b[1;32m    546\u001b[0m             \u001b[0;32mreturn\u001b[0m \u001b[0mcls\u001b[0m\u001b[0;34m.\u001b[0m\u001b[0m_AXIS_TO_AXIS_NUMBER\u001b[0m\u001b[0;34m[\u001b[0m\u001b[0maxis\u001b[0m\u001b[0;34m]\u001b[0m\u001b[0;34m\u001b[0m\u001b[0;34m\u001b[0m\u001b[0m\n\u001b[1;32m    547\u001b[0m         \u001b[0;32mexcept\u001b[0m \u001b[0mKeyError\u001b[0m\u001b[0;34m:\u001b[0m\u001b[0;34m\u001b[0m\u001b[0;34m\u001b[0m\u001b[0m\n\u001b[0;32m--> 548\u001b[0;31m             \u001b[0;32mraise\u001b[0m \u001b[0mValueError\u001b[0m\u001b[0;34m(\u001b[0m\u001b[0;34mf\"No axis named {axis} for object type {cls.__name__}\"\u001b[0m\u001b[0;34m)\u001b[0m\u001b[0;34m\u001b[0m\u001b[0;34m\u001b[0m\u001b[0m\n\u001b[0m\u001b[1;32m    549\u001b[0m \u001b[0;34m\u001b[0m\u001b[0m\n\u001b[1;32m    550\u001b[0m     \u001b[0;34m@\u001b[0m\u001b[0mfinal\u001b[0m\u001b[0;34m\u001b[0m\u001b[0;34m\u001b[0m\u001b[0m\n",
            "\u001b[0;31mValueError\u001b[0m: No axis named ('nice', 'fun fact', 'wow', 'good', 'like', 'great', 'best', 'very nice', 'like', 'people', 'i love it', 'nice video', 'video', 'love it', 'earth', 'perfect', 'noice', 'here', 'sex', 'dogs', 'people', 'beautiful', 'poto', 'hotel', 'porco dio', 'when are you visiting pr🇵🇷?', 'puerto rico', 'awesome!', 'outstanding', 'normal people') for object type DataFrame"
          ]
        }
      ]
    },
    {
      "cell_type": "code",
      "source": [
        "for k in tsm_keywords :\n",
        "    for i , j in df.iterrows() :\n",
        "      if k in j[\"text\"].split(\" \") :\n",
        "        len(print(\"1\",k))\n",
        "        break"
      ],
      "metadata": {
        "colab": {
          "base_uri": "https://localhost:8080/",
          "height": 537
        },
        "id": "XC_nRu63sBBl",
        "outputId": "e6ec3fd3-7b95-4931-8771-fbe3c0498ac0"
      },
      "execution_count": null,
      "outputs": [
        {
          "output_type": "stream",
          "name": "stdout",
          "text": [
            "1 nice\n",
            "1 wow\n",
            "1 good\n",
            "1 like\n",
            "1 great\n",
            "1 best\n",
            "1 like\n",
            "1 people\n",
            "1 video\n"
          ]
        },
        {
          "output_type": "error",
          "ename": "KeyboardInterrupt",
          "evalue": "ignored",
          "traceback": [
            "\u001b[0;31m---------------------------------------------------------------------------\u001b[0m",
            "\u001b[0;31mKeyboardInterrupt\u001b[0m                         Traceback (most recent call last)",
            "\u001b[0;32m<ipython-input-60-6fb22f08a76a>\u001b[0m in \u001b[0;36m<module>\u001b[0;34m\u001b[0m\n\u001b[1;32m      1\u001b[0m \u001b[0;32mfor\u001b[0m \u001b[0mk\u001b[0m \u001b[0;32min\u001b[0m \u001b[0mtsm_keywords\u001b[0m \u001b[0;34m:\u001b[0m\u001b[0;34m\u001b[0m\u001b[0;34m\u001b[0m\u001b[0m\n\u001b[0;32m----> 2\u001b[0;31m     \u001b[0;32mfor\u001b[0m \u001b[0mi\u001b[0m \u001b[0;34m,\u001b[0m \u001b[0mj\u001b[0m \u001b[0;32min\u001b[0m \u001b[0mdf\u001b[0m\u001b[0;34m.\u001b[0m\u001b[0miterrows\u001b[0m\u001b[0;34m(\u001b[0m\u001b[0;34m)\u001b[0m \u001b[0;34m:\u001b[0m\u001b[0;34m\u001b[0m\u001b[0;34m\u001b[0m\u001b[0m\n\u001b[0m\u001b[1;32m      3\u001b[0m       \u001b[0;32mif\u001b[0m \u001b[0mk\u001b[0m \u001b[0;32min\u001b[0m \u001b[0mj\u001b[0m\u001b[0;34m[\u001b[0m\u001b[0;34m\"text\"\u001b[0m\u001b[0;34m]\u001b[0m\u001b[0;34m.\u001b[0m\u001b[0msplit\u001b[0m\u001b[0;34m(\u001b[0m\u001b[0;34m\" \"\u001b[0m\u001b[0;34m)\u001b[0m \u001b[0;34m:\u001b[0m\u001b[0;34m\u001b[0m\u001b[0;34m\u001b[0m\u001b[0m\n\u001b[1;32m      4\u001b[0m         \u001b[0mprint\u001b[0m\u001b[0;34m(\u001b[0m\u001b[0;34m\"1\"\u001b[0m\u001b[0;34m,\u001b[0m\u001b[0mk\u001b[0m\u001b[0;34m)\u001b[0m\u001b[0;34m\u001b[0m\u001b[0;34m\u001b[0m\u001b[0m\n\u001b[1;32m      5\u001b[0m         \u001b[0;32mbreak\u001b[0m\u001b[0;34m\u001b[0m\u001b[0;34m\u001b[0m\u001b[0m\n",
            "\u001b[0;32m/usr/local/lib/python3.7/dist-packages/pandas/core/frame.py\u001b[0m in \u001b[0;36miterrows\u001b[0;34m(self)\u001b[0m\n\u001b[1;32m   1261\u001b[0m         \u001b[0mklass\u001b[0m \u001b[0;34m=\u001b[0m \u001b[0mself\u001b[0m\u001b[0;34m.\u001b[0m\u001b[0m_constructor_sliced\u001b[0m\u001b[0;34m\u001b[0m\u001b[0;34m\u001b[0m\u001b[0m\n\u001b[1;32m   1262\u001b[0m         \u001b[0;32mfor\u001b[0m \u001b[0mk\u001b[0m\u001b[0;34m,\u001b[0m \u001b[0mv\u001b[0m \u001b[0;32min\u001b[0m \u001b[0mzip\u001b[0m\u001b[0;34m(\u001b[0m\u001b[0mself\u001b[0m\u001b[0;34m.\u001b[0m\u001b[0mindex\u001b[0m\u001b[0;34m,\u001b[0m \u001b[0mself\u001b[0m\u001b[0;34m.\u001b[0m\u001b[0mvalues\u001b[0m\u001b[0;34m)\u001b[0m\u001b[0;34m:\u001b[0m\u001b[0;34m\u001b[0m\u001b[0;34m\u001b[0m\u001b[0m\n\u001b[0;32m-> 1263\u001b[0;31m             \u001b[0ms\u001b[0m \u001b[0;34m=\u001b[0m \u001b[0mklass\u001b[0m\u001b[0;34m(\u001b[0m\u001b[0mv\u001b[0m\u001b[0;34m,\u001b[0m \u001b[0mindex\u001b[0m\u001b[0;34m=\u001b[0m\u001b[0mcolumns\u001b[0m\u001b[0;34m,\u001b[0m \u001b[0mname\u001b[0m\u001b[0;34m=\u001b[0m\u001b[0mk\u001b[0m\u001b[0;34m)\u001b[0m\u001b[0;34m\u001b[0m\u001b[0;34m\u001b[0m\u001b[0m\n\u001b[0m\u001b[1;32m   1264\u001b[0m             \u001b[0;32myield\u001b[0m \u001b[0mk\u001b[0m\u001b[0;34m,\u001b[0m \u001b[0ms\u001b[0m\u001b[0;34m\u001b[0m\u001b[0;34m\u001b[0m\u001b[0m\n\u001b[1;32m   1265\u001b[0m \u001b[0;34m\u001b[0m\u001b[0m\n",
            "\u001b[0;32m/usr/local/lib/python3.7/dist-packages/pandas/core/series.py\u001b[0m in \u001b[0;36m__init__\u001b[0;34m(self, data, index, dtype, name, copy, fastpath)\u001b[0m\n\u001b[1;32m    437\u001b[0m                     \u001b[0mdata\u001b[0m \u001b[0;34m=\u001b[0m \u001b[0mdata\u001b[0m\u001b[0;34m.\u001b[0m\u001b[0mcopy\u001b[0m\u001b[0;34m(\u001b[0m\u001b[0;34m)\u001b[0m\u001b[0;34m\u001b[0m\u001b[0;34m\u001b[0m\u001b[0m\n\u001b[1;32m    438\u001b[0m             \u001b[0;32melse\u001b[0m\u001b[0;34m:\u001b[0m\u001b[0;34m\u001b[0m\u001b[0;34m\u001b[0m\u001b[0m\n\u001b[0;32m--> 439\u001b[0;31m                 \u001b[0mdata\u001b[0m \u001b[0;34m=\u001b[0m \u001b[0msanitize_array\u001b[0m\u001b[0;34m(\u001b[0m\u001b[0mdata\u001b[0m\u001b[0;34m,\u001b[0m \u001b[0mindex\u001b[0m\u001b[0;34m,\u001b[0m \u001b[0mdtype\u001b[0m\u001b[0;34m,\u001b[0m \u001b[0mcopy\u001b[0m\u001b[0;34m)\u001b[0m\u001b[0;34m\u001b[0m\u001b[0;34m\u001b[0m\u001b[0m\n\u001b[0m\u001b[1;32m    440\u001b[0m \u001b[0;34m\u001b[0m\u001b[0m\n\u001b[1;32m    441\u001b[0m                 \u001b[0mmanager\u001b[0m \u001b[0;34m=\u001b[0m \u001b[0mget_option\u001b[0m\u001b[0;34m(\u001b[0m\u001b[0;34m\"mode.data_manager\"\u001b[0m\u001b[0;34m)\u001b[0m\u001b[0;34m\u001b[0m\u001b[0;34m\u001b[0m\u001b[0m\n",
            "\u001b[0;32m/usr/local/lib/python3.7/dist-packages/pandas/core/construction.py\u001b[0m in \u001b[0;36msanitize_array\u001b[0;34m(data, index, dtype, copy, raise_cast_failure, allow_2d)\u001b[0m\n\u001b[1;32m    498\u001b[0m \u001b[0;34m\u001b[0m\u001b[0m\n\u001b[1;32m    499\u001b[0m     \u001b[0;31m# extract ndarray or ExtensionArray, ensure we have no PandasArray\u001b[0m\u001b[0;34m\u001b[0m\u001b[0;34m\u001b[0m\u001b[0;34m\u001b[0m\u001b[0m\n\u001b[0;32m--> 500\u001b[0;31m     \u001b[0mdata\u001b[0m \u001b[0;34m=\u001b[0m \u001b[0mextract_array\u001b[0m\u001b[0;34m(\u001b[0m\u001b[0mdata\u001b[0m\u001b[0;34m,\u001b[0m \u001b[0mextract_numpy\u001b[0m\u001b[0;34m=\u001b[0m\u001b[0;32mTrue\u001b[0m\u001b[0;34m)\u001b[0m\u001b[0;34m\u001b[0m\u001b[0;34m\u001b[0m\u001b[0m\n\u001b[0m\u001b[1;32m    501\u001b[0m \u001b[0;34m\u001b[0m\u001b[0m\n\u001b[1;32m    502\u001b[0m     \u001b[0;32mif\u001b[0m \u001b[0misinstance\u001b[0m\u001b[0;34m(\u001b[0m\u001b[0mdata\u001b[0m\u001b[0;34m,\u001b[0m \u001b[0mnp\u001b[0m\u001b[0;34m.\u001b[0m\u001b[0mndarray\u001b[0m\u001b[0;34m)\u001b[0m \u001b[0;32mand\u001b[0m \u001b[0mdata\u001b[0m\u001b[0;34m.\u001b[0m\u001b[0mndim\u001b[0m \u001b[0;34m==\u001b[0m \u001b[0;36m0\u001b[0m\u001b[0;34m:\u001b[0m\u001b[0;34m\u001b[0m\u001b[0;34m\u001b[0m\u001b[0m\n",
            "\u001b[0;32m/usr/local/lib/python3.7/dist-packages/pandas/core/construction.py\u001b[0m in \u001b[0;36mextract_array\u001b[0;34m(obj, extract_numpy, extract_range)\u001b[0m\n\u001b[1;32m    415\u001b[0m     \u001b[0marray\u001b[0m\u001b[0;34m(\u001b[0m\u001b[0;34m[\u001b[0m\u001b[0;36m1\u001b[0m\u001b[0;34m,\u001b[0m \u001b[0;36m2\u001b[0m\u001b[0;34m,\u001b[0m \u001b[0;36m3\u001b[0m\u001b[0;34m]\u001b[0m\u001b[0;34m)\u001b[0m\u001b[0;34m\u001b[0m\u001b[0;34m\u001b[0m\u001b[0m\n\u001b[1;32m    416\u001b[0m     \"\"\"\n\u001b[0;32m--> 417\u001b[0;31m     \u001b[0;32mif\u001b[0m \u001b[0misinstance\u001b[0m\u001b[0;34m(\u001b[0m\u001b[0mobj\u001b[0m\u001b[0;34m,\u001b[0m \u001b[0;34m(\u001b[0m\u001b[0mABCIndex\u001b[0m\u001b[0;34m,\u001b[0m \u001b[0mABCSeries\u001b[0m\u001b[0;34m)\u001b[0m\u001b[0;34m)\u001b[0m\u001b[0;34m:\u001b[0m\u001b[0;34m\u001b[0m\u001b[0;34m\u001b[0m\u001b[0m\n\u001b[0m\u001b[1;32m    418\u001b[0m         \u001b[0;32mif\u001b[0m \u001b[0misinstance\u001b[0m\u001b[0;34m(\u001b[0m\u001b[0mobj\u001b[0m\u001b[0;34m,\u001b[0m \u001b[0mABCRangeIndex\u001b[0m\u001b[0;34m)\u001b[0m\u001b[0;34m:\u001b[0m\u001b[0;34m\u001b[0m\u001b[0;34m\u001b[0m\u001b[0m\n\u001b[1;32m    419\u001b[0m             \u001b[0;32mif\u001b[0m \u001b[0mextract_range\u001b[0m\u001b[0;34m:\u001b[0m\u001b[0;34m\u001b[0m\u001b[0;34m\u001b[0m\u001b[0m\n",
            "\u001b[0;31mKeyboardInterrupt\u001b[0m: "
          ]
        }
      ]
    },
    {
      "cell_type": "code",
      "source": [
        "[x for x in queries.split(',') if any(kw in x for kw in keywords)]"
      ],
      "metadata": {
        "id": "3uzNlDQKr6kL"
      },
      "execution_count": null,
      "outputs": []
    },
    {
      "cell_type": "code",
      "source": [
        "tsm = tsm_keywords.split(\" \")"
      ],
      "metadata": {
        "colab": {
          "base_uri": "https://localhost:8080/",
          "height": 166
        },
        "id": "Ka6OvyI0o2at",
        "outputId": "2376b775-a82b-4867-e6ae-2612ca8b3879"
      },
      "execution_count": null,
      "outputs": [
        {
          "output_type": "error",
          "ename": "AttributeError",
          "evalue": "ignored",
          "traceback": [
            "\u001b[0;31m---------------------------------------------------------------------------\u001b[0m",
            "\u001b[0;31mAttributeError\u001b[0m                            Traceback (most recent call last)",
            "\u001b[0;32m<ipython-input-43-61738d9d9577>\u001b[0m in \u001b[0;36m<module>\u001b[0;34m\u001b[0m\n\u001b[0;32m----> 1\u001b[0;31m \u001b[0mtsm\u001b[0m \u001b[0;34m=\u001b[0m \u001b[0mtsm_keywords\u001b[0m\u001b[0;34m.\u001b[0m\u001b[0msplit\u001b[0m\u001b[0;34m(\u001b[0m\u001b[0;34m\" \"\u001b[0m\u001b[0;34m)\u001b[0m\u001b[0;34m\u001b[0m\u001b[0;34m\u001b[0m\u001b[0m\n\u001b[0m",
            "\u001b[0;31mAttributeError\u001b[0m: 'tuple' object has no attribute 'split'"
          ]
        }
      ]
    },
    {
      "cell_type": "code",
      "source": [
        "tsm_keywords in [\"nice\"]"
      ],
      "metadata": {
        "colab": {
          "base_uri": "https://localhost:8080/"
        },
        "id": "tlIRYOcplvPM",
        "outputId": "9ae3d27c-2c71-449c-a63e-60674b995942"
      },
      "execution_count": null,
      "outputs": [
        {
          "output_type": "execute_result",
          "data": {
            "text/plain": [
              "False"
            ]
          },
          "metadata": {},
          "execution_count": 18
        }
      ]
    },
    {
      "cell_type": "code",
      "source": [
        "\n",
        "###############################\n",
        "# Auto Categorization\n",
        "\n",
        "df[[\"text\"]]\n",
        "\n",
        "df[\"text\"][1].drop(inplace=True)\n",
        "\n",
        "df.dropna(\" \",inplace=True)\n",
        "\n",
        "df1 = df.iloc[1:]\n",
        "\n",
        "df1[\"text\"].head()\n",
        "\n",
        "target = pd.DataFrame\n",
        "\n",
        "target = df1.pop(\"text\")\n",
        "df1 = pd.concat([df1, target], axis=1)\n",
        "\n",
        "temp_tsm = pd.Series(' '.join(df['text']).split()).value_counts()\n",
        "\n",
        "tsm_keywords = [\"nice\",\"fun fact\",\"wow\",\"good\",\"like\",\"great\",\"best\",\n",
        "       \"very nice\",\"like\",\"people\",\"i love it\",\"nice video\",\"video\",\"love it\",\"earth\",\"perfect\",\"noice\",\n",
        "       \"here\",\"sex\",\"dogs\",\"people\",\"beautiful\",\"poto\",\"hotel\",\"porco dio\",\"when are you visiting pr🇵🇷?\",\n",
        "       \"puerto rico\",\"awesome!\",\"outstanding\",\"normal people\"]\n",
        "\n",
        "temp_df[\"wow\"]\n",
        "\n",
        "\n",
        "df1[\"tourism\"] = df1['text'].apply(lambda x: \" \".join(x+1 for x in str(x).split() if x in tsm))\n",
        "\n",
        "df1[\"tourism\"].remove(\" \")\n",
        "\n",
        "df1.sample(20)\n",
        "\n",
        "a = 1\n",
        "b = 0\n",
        "\n",
        "\n",
        "for tsm in df1['text']:\n",
        "    if tsm in df1['text'] :\n",
        "        df1[\"tourism\"]=1\n",
        "    else:\n",
        "        df1[\"tourism\"]=0\n",
        "\n",
        "\n",
        "\n",
        "df1[\"tourism\"].head()\n",
        "\n",
        "\n",
        "sayac=0\n",
        "sayi=input('Sayı: ')\n",
        "for i in range(2,int(sayi)):\n",
        "      if(int(sayi)%i==0):\n",
        "            sayac+=1\n",
        "            break\n",
        "if(sayac!=0):\n",
        "      print(\"Sayı Asal Değil\")\n",
        "else:\n",
        "      print(\"Sayı Asal\")\n",
        "\n",
        "\n",
        "\n",
        "harf=\"a\"\n",
        "sayac=0\n",
        "\n",
        "for i in yazi:\n",
        "     if i==\"a\":\n",
        "         sayac=sayac+1\n",
        "print(\"cümle içerisinde geçen a harfi sayısı: \",sayac)\n",
        "\n",
        "\n",
        "\n",
        "sayac=0\n",
        "\n",
        "for i in tsm_keywords :\n",
        "     if i in df[\"text\"]:\n",
        "         df[\"tourism\"]=sayac+1\n",
        "     else\n",
        "         df[\"tourism\"]=sayac\n",
        "print(\"cümle içerisinde geçen a harfi sayısı: \",sayac)\n",
        "\n",
        "\n",
        "\n",
        "\n",
        "folder = glob.glob(\"/content/drive/MyDrive/p&g test images contrast/*.jpg\")\n",
        "\n",
        "for i in folder :\n",
        "    img = PIL.Image.open(i)\n",
        "    print(i , brisque.score(img))\n"
      ],
      "metadata": {
        "id": "Z8TvFi9a4xSD"
      },
      "execution_count": null,
      "outputs": []
    },
    {
      "cell_type": "code",
      "source": [],
      "metadata": {
        "id": "-FAf2TKQ4xPs"
      },
      "execution_count": null,
      "outputs": []
    },
    {
      "cell_type": "code",
      "source": [],
      "metadata": {
        "id": "uuJfXTG74xL7"
      },
      "execution_count": null,
      "outputs": []
    },
    {
      "cell_type": "code",
      "source": [],
      "metadata": {
        "id": "gg2aLrpW4xJn"
      },
      "execution_count": null,
      "outputs": []
    },
    {
      "cell_type": "code",
      "source": [],
      "metadata": {
        "id": "LUYQR0tc4xHQ"
      },
      "execution_count": null,
      "outputs": []
    },
    {
      "cell_type": "code",
      "source": [],
      "metadata": {
        "id": "knvn5zTq4xE-"
      },
      "execution_count": null,
      "outputs": []
    },
    {
      "cell_type": "code",
      "source": [],
      "metadata": {
        "id": "KNQICPmz4xCV"
      },
      "execution_count": null,
      "outputs": []
    }
  ],
  "metadata": {
    "colab": {
      "provenance": [],
      "collapsed_sections": [],
      "include_colab_link": true
    },
    "gpuClass": "standard",
    "kernelspec": {
      "display_name": "Python 3",
      "language": "python",
      "name": "python3"
    },
    "language_info": {
      "codemirror_mode": {
        "name": "ipython",
        "version": 3
      },
      "file_extension": ".py",
      "mimetype": "text/x-python",
      "name": "python",
      "nbconvert_exporter": "python",
      "pygments_lexer": "ipython3",
      "version": "3.7.12"
    }
  },
  "nbformat": 4,
  "nbformat_minor": 0
}